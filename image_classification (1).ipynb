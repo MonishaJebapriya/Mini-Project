{
  "nbformat": 4,
  "nbformat_minor": 0,
  "metadata": {
    "colab": {
      "name": "image classification.ipynb",
      "provenance": [],
      "collapsed_sections": []
    },
    "kernelspec": {
      "name": "python3",
      "display_name": "Python 3"
    },
    "language_info": {
      "name": "python"
    }
  },
  "cells": [
    {
      "cell_type": "code",
      "metadata": {
        "colab": {
          "base_uri": "https://localhost:8080/"
        },
        "id": "Wu-GNF1OoENa",
        "outputId": "eb52746f-926a-4a4c-d530-60fba6166350"
      },
      "source": [
        "!pip install bing-image-downloader\n"
      ],
      "execution_count": 1,
      "outputs": [
        {
          "output_type": "stream",
          "text": [
            "Collecting bing-image-downloader\n",
            "  Downloading https://files.pythonhosted.org/packages/0d/bf/537a61030b84ae4cd5022d5c7b014fd9bc3ce7c02358919153a6658a61d3/bing_image_downloader-1.0.4-py3-none-any.whl\n",
            "Installing collected packages: bing-image-downloader\n",
            "Successfully installed bing-image-downloader-1.0.4\n"
          ],
          "name": "stdout"
        }
      ]
    },
    {
      "cell_type": "code",
      "metadata": {
        "id": "r29bvZCjsQ_8",
        "colab": {
          "base_uri": "https://localhost:8080/"
        },
        "outputId": "bbc41c28-2711-4b04-f1fe-f2005f10b0a0"
      },
      "source": [
        "!mkdir images\n"
      ],
      "execution_count": 3,
      "outputs": [
        {
          "output_type": "stream",
          "text": [
            "mkdir: cannot create directory ‘images’: File exists\n"
          ],
          "name": "stdout"
        }
      ]
    },
    {
      "cell_type": "code",
      "metadata": {
        "colab": {
          "base_uri": "https://localhost:8080/"
        },
        "id": "WbDQKpDZsw_L",
        "outputId": "e5eb1cf5-7dd7-45ab-fe19-0716a97e51b8"
      },
      "source": [
        "from bing_image_downloader import downloader\n",
        "downloader.download(\"sunflower\",limit=30,output_dir='images', adult_filter_off=True)"
      ],
      "execution_count": 4,
      "outputs": [
        {
          "output_type": "stream",
          "text": [
            "\n",
            "\n",
            "[!!]Indexing page: 1\n",
            "\n",
            "[%] Indexed 10 Images on Page 1.\n",
            "\n",
            "===============================================\n",
            "\n",
            "[%] Downloading Image #1 from https://papeldeparede.club/wp-content/uploads/2019/12/papeis-de-parede-de-girassol-9.jpg\n",
            "[%] File Downloaded !\n",
            "\n",
            "[%] Downloading Image #2 from http://www.monadnockart.com/images/tutorials/fireflies.jpg\n",
            "[%] File Downloaded !\n",
            "\n",
            "[%] Downloading Image #3 from https://i.pinimg.com/736x/c6/1b/18/c61b1856ff76e6d82a43b7ed8d104b32.jpg\n",
            "[%] File Downloaded !\n",
            "\n",
            "[%] Downloading Image #4 from http://www.monadnockart.com/images/tutorials/sunflowers.jpg\n",
            "[%] File Downloaded !\n",
            "\n",
            "[%] Downloading Image #5 from https://www.hdwallpapers.in/download/pure_yellow_sunflowers-1280x800.jpg\n",
            "[%] File Downloaded !\n",
            "\n",
            "[%] Downloading Image #6 from https://fsa.zobj.net/crop.php?r=-oE-wA-l9-Z3knzAPi6yFsRZFkxhQ9QjQxegu-W0MSuhIg2hudCrMpLlTZ5bLGQJf_Vw77-4xWOk_GJsQ8Ayw2nMeO0dMrAsJkvlWvtL2HNdUk9TmJ9JFIpP7ItvZIvdtmSt0JwgDZmZLYpz\n",
            "[%] File Downloaded !\n",
            "\n",
            "[%] Downloading Image #7 from https://nnew.cc/wp-content/uploads/2018/02/1392-8.jpg\n",
            "[%] File Downloaded !\n",
            "\n",
            "[%] Downloading Image #8 from http://wallpapershome.com/images/pages/pic_v/10134.jpg\n",
            "[%] File Downloaded !\n",
            "\n",
            "[%] Downloading Image #9 from https://listspirit.com/wp-content/uploads/2018/05/Idée-Décoration-Maison-En-Photos-2018-déco-été-pour-la-porte-dentrée-couronne-fleur-de-tournesol-decoration-fl.jpg\n",
            "[!] Issue getting: https://listspirit.com/wp-content/uploads/2018/05/Idée-Décoration-Maison-En-Photos-2018-déco-été-pour-la-porte-dentrée-couronne-fleur-de-tournesol-decoration-fl.jpg\n",
            "[!] Error:: 'ascii' codec can't encode character '\\xe9' in position 34: ordinal not in range(128)\n",
            "[%] Downloading Image #9 from https://www.desktopbackground.org/download/360x640/2011/05/03/197389_download-sunflower-field-backgrounds-hd-wallpapers_2048x1260_h.jpg\n",
            "[%] File Downloaded !\n",
            "\n",
            "\n",
            "\n",
            "[!!]Indexing page: 2\n",
            "\n",
            "[%] Indexed 10 Images on Page 2.\n",
            "\n",
            "===============================================\n",
            "\n",
            "[%] Downloading Image #10 from https://www.hdwallpapers.in/download/closeup_photo_of_sunflower_with_shallow_focus_red_and_yellow_sky_during_sunset_4k_hd_flowers-1280x720.jpg\n",
            "[%] File Downloaded !\n",
            "\n",
            "[%] Downloading Image #11 from https://www.wallpapers13.com/wp-content/uploads/2019/04/Field-Lavender-Purple-flowers-sunset-orange-sky-clouds-HD-Wallpapers-Ultra-HD-4K-Wallpapers-for-Desktop-Mobiles.jpg\n",
            "[%] File Downloaded !\n",
            "\n",
            "[%] Downloading Image #12 from http://lomets.com/wp-content/uploads/2016/07/266a81dfd8c17435263ec6307e15a8dd.jpg\n",
            "[%] File Downloaded !\n",
            "\n",
            "[%] Downloading Image #13 from https://www.desktopbackground.org/download/480x800/2011/05/03/197389_download-sunflower-field-backgrounds-hd-wallpapers_2048x1260_h.jpg\n",
            "[%] File Downloaded !\n",
            "\n",
            "[%] Downloading Image #14 from http://www.diytomake.com/wp-content/uploads/2015/09/Embellished-Party-Hats.jpg\n",
            "[%] File Downloaded !\n",
            "\n",
            "[%] Downloading Image #15 from https://www.whiteflowercake.com/wp-content/uploads/2016/11/IMG_0992.jpg\n",
            "[%] File Downloaded !\n",
            "\n",
            "[%] Downloading Image #16 from http://www.ecstasycoffee.com/wp-content/uploads/2016/09/Most-women-opt-for-butterfly-tattoos-because-of-its-cute-shape-and-symbolic-meaning..jpg\n",
            "[%] File Downloaded !\n",
            "\n",
            "[%] Downloading Image #17 from http://rainyside.com/images/annuals/HelianthusSoraya090804_2.jpg\n",
            "[%] File Downloaded !\n",
            "\n",
            "[%] Downloading Image #18 from http://www.chrisglass.com/photos/2007/wallpapers/images/mary.jpg\n",
            "[!] Issue getting: http://www.chrisglass.com/photos/2007/wallpapers/images/mary.jpg\n",
            "[!] Error:: HTTP Error 404: Not Found\n",
            "[%] Downloading Image #18 from https://4kwallpapers.com/images/wallpapers/sunflowers-flower-vase-wooden-background-teal-640x1136-921.jpg\n",
            "[%] File Downloaded !\n",
            "\n",
            "\n",
            "\n",
            "[!!]Indexing page: 3\n",
            "\n",
            "[%] Indexed 9 Images on Page 3.\n",
            "\n",
            "===============================================\n",
            "\n",
            "[%] Downloading Image #19 from https://i.pinimg.com/736x/c6/1b/18/c61b1856ff76e6d82a43b7ed8d104b32.jpg\n",
            "[%] File Downloaded !\n",
            "\n",
            "[%] Downloading Image #20 from https://www.hdwallpapers.in/download/pure_yellow_sunflowers-1280x800.jpg\n",
            "[%] File Downloaded !\n",
            "\n",
            "[%] Downloading Image #21 from https://www.desktopbackground.org/download/360x640/2011/05/03/197389_download-sunflower-field-backgrounds-hd-wallpapers_2048x1260_h.jpg\n",
            "[%] File Downloaded !\n",
            "\n",
            "[%] Downloading Image #22 from https://nnew.cc/wp-content/uploads/2018/02/1392-8.jpg\n",
            "[%] File Downloaded !\n",
            "\n",
            "[%] Downloading Image #23 from http://www.monadnockart.com/images/tutorials/sunflowers.jpg\n",
            "[%] File Downloaded !\n",
            "\n",
            "[%] Downloading Image #24 from https://listspirit.com/wp-content/uploads/2018/05/Idée-Décoration-Maison-En-Photos-2018-déco-été-pour-la-porte-dentrée-couronne-fleur-de-tournesol-decoration-fl.jpg\n",
            "[!] Issue getting: https://listspirit.com/wp-content/uploads/2018/05/Idée-Décoration-Maison-En-Photos-2018-déco-été-pour-la-porte-dentrée-couronne-fleur-de-tournesol-decoration-fl.jpg\n",
            "[!] Error:: 'ascii' codec can't encode character '\\xe9' in position 34: ordinal not in range(128)\n",
            "[%] Downloading Image #24 from http://wallpapershome.com/images/pages/pic_v/10134.jpg\n",
            "[%] File Downloaded !\n",
            "\n",
            "[%] Downloading Image #25 from https://fsa.zobj.net/crop.php?r=-oE-wA-l9-Z3knzAPi6yFsRZFkxhQ9QjQxegu-W0MSuhIg2hudCrMpLlTZ5bLGQJf_Vw77-4xWOk_GJsQ8Ayw2nMeO0dMrAsJkvlWvtL2HNdUk9TmJ9JFIpP7ItvZIvdtmSt0JwgDZmZLYpz\n",
            "[%] File Downloaded !\n",
            "\n",
            "[%] Downloading Image #26 from http://www.monadnockart.com/images/tutorials/fireflies.jpg\n",
            "[%] File Downloaded !\n",
            "\n",
            "\n",
            "\n",
            "[!!]Indexing page: 4\n",
            "\n",
            "[%] Indexed 8 Images on Page 4.\n",
            "\n",
            "===============================================\n",
            "\n",
            "[%] Downloading Image #27 from https://www.hdwallpapers.in/download/pure_yellow_sunflowers-1280x800.jpg\n",
            "[%] File Downloaded !\n",
            "\n",
            "[%] Downloading Image #28 from http://wallpapershome.com/images/pages/pic_v/10134.jpg\n",
            "[%] File Downloaded !\n",
            "\n",
            "[%] Downloading Image #29 from https://nnew.cc/wp-content/uploads/2018/02/1392-8.jpg\n",
            "[%] File Downloaded !\n",
            "\n",
            "[%] Downloading Image #30 from http://www.monadnockart.com/images/tutorials/fireflies.jpg\n",
            "[%] File Downloaded !\n",
            "\n",
            "\n",
            "\n",
            "[%] Done. Downloaded 30 images.\n",
            "\n",
            "===============================================\n",
            "\n"
          ],
          "name": "stdout"
        }
      ]
    },
    {
      "cell_type": "code",
      "metadata": {
        "colab": {
          "base_uri": "https://localhost:8080/"
        },
        "id": "Vwpn3h_YwFMP",
        "outputId": "6beaa233-418a-4b2d-c9f7-7804d6a842e9"
      },
      "source": [
        "downloader.download(\"rugby ball leather\",limit=30,output_dir='images', adult_filter_off=True)"
      ],
      "execution_count": 5,
      "outputs": [
        {
          "output_type": "stream",
          "text": [
            "\n",
            "\n",
            "[!!]Indexing page: 1\n",
            "\n",
            "[%] Indexed 10 Images on Page 1.\n",
            "\n",
            "===============================================\n",
            "\n",
            "[%] Downloading Image #1 from https://www.freevector.com/uploads/vector/preview/16532/FreeVector-Rugby-Ball.jpg\n",
            "[%] File Downloaded !\n",
            "\n",
            "[%] Downloading Image #2 from https://www.cgstudio.com/imgd/l/76/58aaf6dca70248a0408b4567/rugby_ball_gilbert_01.jpg\n",
            "[%] File Downloaded !\n",
            "\n",
            "[%] Downloading Image #3 from http://www.paginainizio.com/genio/foto/rugby1932.jpg\n",
            "[%] File Downloaded !\n",
            "\n",
            "[%] Downloading Image #4 from https://static.vecteezy.com/system/resources/previews/000/436/969/original/vector-football-or-rugby-ball-emblem.jpg\n",
            "[%] File Downloaded !\n",
            "\n",
            "[%] Downloading Image #5 from https://www.allsportvintage.com/912-thickbox_default/vintage-leather-foot-ball.jpg\n",
            "[%] File Downloaded !\n",
            "\n",
            "[%] Downloading Image #6 from http://cdn.instructables.com/FTK/A64C/FS8O1JNS/FTKA64CFS8O1JNS.RECT2100.jpg\n",
            "[!] Issue getting: http://cdn.instructables.com/FTK/A64C/FS8O1JNS/FTKA64CFS8O1JNS.RECT2100.jpg\n",
            "[!] Error:: HTTP Error 403: Forbidden\n",
            "[%] Downloading Image #6 from https://static.vecteezy.com/system/resources/previews/000/364/281/original/vector-realistic-baseball-illustration.jpg\n",
            "[%] File Downloaded !\n",
            "\n",
            "[%] Downloading Image #7 from https://www.prodirectsoccer.com/productimages/V3_1_Main/73478.jpg\n",
            "[%] File Downloaded !\n",
            "\n",
            "[%] Downloading Image #8 from http://i.dailymail.co.uk/i/pix/2010/11/25/article-0-0C3BAC9D000005DC-814_634x796.jpg\n",
            "[Error]Invalid image, not saving http://i.dailymail.co.uk/i/pix/2010/11/25/article-0-0C3BAC9D000005DC-814_634x796.jpg\n",
            "\n",
            "[!] Issue getting: http://i.dailymail.co.uk/i/pix/2010/11/25/article-0-0C3BAC9D000005DC-814_634x796.jpg\n",
            "[!] Error:: No active exception to reraise\n",
            "[%] Downloading Image #8 from http://www.prodirectrugby.com/productimages/V3_1_Main/68024.jpg\n",
            "[!] Issue getting: http://www.prodirectrugby.com/productimages/V3_1_Main/68024.jpg\n",
            "[!] Error:: HTTP Error 403: Forbidden\n",
            "\n",
            "\n",
            "[!!]Indexing page: 2\n",
            "\n",
            "[%] Indexed 11 Images on Page 2.\n",
            "\n",
            "===============================================\n",
            "\n",
            "[%] Downloading Image #8 from https://www.cbc.ca/kidscbc2/content/the_feed/LeatherFootball_SuperBowl.jpg\n",
            "[%] File Downloaded !\n",
            "\n",
            "[%] Downloading Image #9 from http://historyanswers.wpengine.com/wp-content/uploads/2015/09/Richard_Lindon_1816-1887-704x1024.jpg\n",
            "[%] File Downloaded !\n",
            "\n",
            "[%] Downloading Image #10 from https://static.vecteezy.com/system/resources/previews/000/111/555/original/hand-drawn-leather-football-vector-texture.jpg\n",
            "[%] File Downloaded !\n",
            "\n",
            "[%] Downloading Image #11 from http://res.freestockphotos.biz/pictures/17/17113-illustration-of-a-football-pv.png\n",
            "[%] File Downloaded !\n",
            "\n",
            "[%] Downloading Image #12 from https://img1.etsystatic.com/044/0/7864717/il_fullxfull.644349439_g0x6.jpg\n",
            "[%] File Downloaded !\n",
            "\n",
            "[%] Downloading Image #13 from https://www.john-woodbridge.com/1009-large_default/1930s-football.jpg\n",
            "[%] File Downloaded !\n",
            "\n",
            "[%] Downloading Image #14 from http://www.rugby-gifts.co.uk/ekmps/shops/rugbygifts/images/the-complete-rugby-fragrance-gift-set-74467-p.jpg\n",
            "[%] File Downloaded !\n",
            "\n",
            "[%] Downloading Image #15 from http://sialdeporte.com/wp-content/uploads/2018/01/balon-de-futbol-3-1.jpg\n",
            "[%] File Downloaded !\n",
            "\n",
            "[%] Downloading Image #16 from https://www.prodirectrugby.com/productimages/V3_1_Gallery_1/68068.jpg\n",
            "[!] Issue getting: https://www.prodirectrugby.com/productimages/V3_1_Gallery_1/68068.jpg\n",
            "[!] Error:: HTTP Error 403: Forbidden\n",
            "[%] Downloading Image #16 from http://www.prodirectrugby.com/productimages/V3_1_Main/62296.jpg\n",
            "[!] Issue getting: http://www.prodirectrugby.com/productimages/V3_1_Main/62296.jpg\n",
            "[!] Error:: HTTP Error 403: Forbidden\n",
            "[%] Downloading Image #16 from https://thumbs.dreamstime.com/z/cartoon-sport-balls-25573001.jpg\n",
            "[%] File Downloaded !\n",
            "\n",
            "\n",
            "\n",
            "[!!]Indexing page: 3\n",
            "\n",
            "[%] Indexed 9 Images on Page 3.\n",
            "\n",
            "===============================================\n",
            "\n",
            "[%] Downloading Image #17 from http://cdn.shopify.com/s/files/1/0788/5979/products/mvp-leather-balls-heritage-leather-t-soccer-ball-1_1024x1024.jpg?v=1554719760\n",
            "[%] File Downloaded !\n",
            "\n",
            "[%] Downloading Image #18 from http://petticoatsandpistols.com/wp-content/uploads/2017/01/IMG_3413-1.jpg\n",
            "[%] File Downloaded !\n",
            "\n",
            "[%] Downloading Image #19 from https://www.john-woodbridge.com/1009-tm_large_default/1930s-football.jpg\n",
            "[%] File Downloaded !\n",
            "\n",
            "[%] Downloading Image #20 from https://cdn-01.independent.ie/incoming/article34694420.ece/2b21b/AUTOCROP/w620/len004.jpg\n",
            "[%] File Downloaded !\n",
            "\n",
            "[%] Downloading Image #21 from https://www.thecoverbag.com/assets/images/img_2938.jpg\n",
            "[%] File Downloaded !\n",
            "\n",
            "[%] Downloading Image #22 from https://mysports.lk/wp-content/uploads/2020/05/cricket-Marker-Cone.jpg\n",
            "[%] File Downloaded !\n",
            "\n",
            "[%] Downloading Image #23 from https://www.prodirectrugby.com/productimages/V3_1_Main/73478.jpg\n",
            "[!] Issue getting: https://www.prodirectrugby.com/productimages/V3_1_Main/73478.jpg\n",
            "[!] Error:: HTTP Error 403: Forbidden\n",
            "[%] Downloading Image #23 from https://www.prodirectrugby.com/productimages/V3_1_Main/82143.jpg\n",
            "[!] Issue getting: https://www.prodirectrugby.com/productimages/V3_1_Main/82143.jpg\n",
            "[!] Error:: HTTP Error 403: Forbidden\n",
            "[%] Downloading Image #23 from http://i3.photobucket.com/albums/y81/virginking/SAMSUNG GENIO/SDC10976copy.jpg\n",
            "[!] Issue getting: http://i3.photobucket.com/albums/y81/virginking/SAMSUNG GENIO/SDC10976copy.jpg\n",
            "[!] Error:: URL can't contain control characters. '/albums/y81/virginking/SAMSUNG GENIO/SDC10976copy.jpg' (found at least ' ')\n",
            "\n",
            "\n",
            "[!!]Indexing page: 4\n",
            "\n",
            "[%] Indexed 30 Images on Page 4.\n",
            "\n",
            "===============================================\n",
            "\n",
            "[%] Downloading Image #23 from https://cdn.shopify.com/s/files/1/0788/5979/products/mvp-leather-balls-heritage-leather-rugby-ball-1_2356x.jpg?v=1550134680\n",
            "[%] File Downloaded !\n",
            "\n",
            "[%] Downloading Image #24 from https://cdn.shopify.com/s/files/1/0788/5979/products/mvp-leather-balls-heritage-leather-rugby-ball-2_1024x1024.jpg?v=1550134680\n",
            "[%] File Downloaded !\n",
            "\n",
            "[%] Downloading Image #25 from https://cdn.notonthehighstreet.com/fs/66/7f/caf0-7c5a-45fa-a436-44b52ec027a6/original_ram-rugby-vintage-leather-rugby-ball.jpg\n",
            "[%] File Downloaded !\n",
            "\n",
            "[%] Downloading Image #26 from https://cdn.shopify.com/s/files/1/0788/5979/products/mvp-leather-balls-brown-cream-leather-rugby-ball-1_2048x.jpg?v=1550134649\n",
            "[%] File Downloaded !\n",
            "\n",
            "[%] Downloading Image #27 from http://www.webbellisrugby.co.uk/wp-content/uploads/2016/04/leather-rugby-ball-puntabout.jpg\n",
            "[%] File Downloaded !\n",
            "\n",
            "[%] Downloading Image #28 from https://images.footballfanatics.com/england-rugby/england-heritage-leather-rugby-ball_ss4_p-11915081+u-i1yzm7ua8msrxcp06yj2+v-79898d6efb7f4d5187711b139f60f3f8.jpg?_hv=1&amp;w=900\n",
            "[%] File Downloaded !\n",
            "\n",
            "[%] Downloading Image #29 from http://www.kraveantiques.co.uk/images/products/Brown-Rugby-Ball-1455-12.jpg\n",
            "[%] File Downloaded !\n",
            "\n",
            "[%] Downloading Image #30 from https://www.imagehandler.net/?iset=0303&amp;img=A62476000&amp;fmt=jpg&amp;w=600&amp;h=600&amp;iindex=0062&amp;c=999&amp;cmp=100\n",
            "[!] Issue getting: https://www.imagehandler.net/?iset=0303&amp;img=A62476000&amp;fmt=jpg&amp;w=600&amp;h=600&amp;iindex=0062&amp;c=999&amp;cmp=100\n",
            "[!] Error:: HTTP Error 403: Forbidden\n",
            "[%] Downloading Image #30 from https://cdn.shopify.com/s/files/1/0788/5979/products/mvp-leather-balls-deluxe-leather-rugby-ball-1_800x.jpg?v=1551767452\n",
            "[%] File Downloaded !\n",
            "\n",
            "\n",
            "\n",
            "[%] Done. Downloaded 30 images.\n",
            "\n",
            "===============================================\n",
            "\n"
          ],
          "name": "stdout"
        }
      ]
    },
    {
      "cell_type": "code",
      "metadata": {
        "colab": {
          "base_uri": "https://localhost:8080/"
        },
        "id": "pu-NLjogxlWX",
        "outputId": "fa68eac4-3b99-4a01-edbd-71441d9214ba"
      },
      "source": [
        "downloader.download(\"cat\",limit=30,output_dir='images', adult_filter_off=True)"
      ],
      "execution_count": 6,
      "outputs": [
        {
          "output_type": "stream",
          "text": [
            "\n",
            "\n",
            "[!!]Indexing page: 1\n",
            "\n",
            "[%] Indexed 10 Images on Page 1.\n",
            "\n",
            "===============================================\n",
            "\n",
            "[%] Downloading Image #1 from http://1.bp.blogspot.com/-RD49_bQoKgM/Tsc6ZfSqGVI/AAAAAAAABcE/LIhF0xYcYjI/s1600/cat-wallpapers-Desktop-HD-photo-images-14.jpg\n",
            "[%] File Downloaded !\n",
            "\n",
            "[%] Downloading Image #2 from http://i1.ytimg.com/vi/f5m8Xdwt8Jk/maxresdefault.jpg\n",
            "[%] File Downloaded !\n",
            "\n",
            "[%] Downloading Image #3 from http://www.toxel.com/wp-content/uploads/2013/04/catstockings02.jpg\n",
            "[%] File Downloaded !\n",
            "\n",
            "[%] Downloading Image #4 from http://d.ibtimes.co.uk/en/full/1362635/lykoi-cat.jpg\n",
            "[%] File Downloaded !\n",
            "\n",
            "[%] Downloading Image #5 from http://i1.ytimg.com/vi/lHCgbUdYVqI/maxresdefault.jpg\n",
            "[%] File Downloaded !\n",
            "\n",
            "[%] Downloading Image #6 from http://www.petpaw.com.au/wp-content/uploads/2012/11/Calico-lying.jpg\n",
            "[%] File Downloaded !\n",
            "\n",
            "[%] Downloading Image #7 from http://1.bp.blogspot.com/-x0Tib7A1pWM/T_EXljOcfeI/AAAAAAAAECw/u9q77BqiU2Y/s1600/Mog+the+forgetful+cat.jpg\n",
            "[%] File Downloaded !\n",
            "\n",
            "[%] Downloading Image #8 from http://www.thegaragegroomingshop.com/images/pissedcat.jpg\n",
            "[%] File Downloaded !\n",
            "\n",
            "[%] Downloading Image #9 from http://www.catbreedsjunction.com/images/bambino-cat-facts-kitten.jpg\n",
            "[%] File Downloaded !\n",
            "\n",
            "[%] Downloading Image #10 from http://thegraphicsfairy.com/wp-content/uploads/2012/09/Cat-Tuxedo-GraphicsFairy1.jpg\n",
            "[%] File Downloaded !\n",
            "\n",
            "\n",
            "\n",
            "[!!]Indexing page: 2\n",
            "\n",
            "[%] Indexed 13 Images on Page 2.\n",
            "\n",
            "===============================================\n",
            "\n",
            "[%] Downloading Image #11 from http://www.vanishingtattoo.com/tds/images/cat_compilation/cat_large/cat_maine_coon_009.jpg\n",
            "[%] File Downloaded !\n",
            "\n",
            "[%] Downloading Image #12 from http://www.cat-health-detective.com/images/whiskers.jpg\n",
            "[%] File Downloaded !\n",
            "\n",
            "[%] Downloading Image #13 from http://www.fightersgeneration.com/nx/chars/catwoman-arkhamcity-artwork.jpg\n",
            "[%] File Downloaded !\n",
            "\n",
            "[%] Downloading Image #14 from http://4.bp.blogspot.com/-iciRPcFZisk/T0Bn_60rYNI/AAAAAAAABOQ/Y2n7MHJXi7Y/s1600/scary-cat-face+9.jpg\n",
            "[%] File Downloaded !\n",
            "\n",
            "[%] Downloading Image #15 from http://www.swapmeetdave.com/Humor/Cats/SweetDreams.jpg\n",
            "[%] File Downloaded !\n",
            "\n",
            "[%] Downloading Image #16 from http://i.ytimg.com/vi/lCvkIpgvbAE/maxresdefault.jpg\n",
            "[%] File Downloaded !\n",
            "\n",
            "[%] Downloading Image #17 from http://i1.ytimg.com/vi/DhrZxSoLmgA/maxresdefault.jpg\n",
            "[%] File Downloaded !\n",
            "\n",
            "[%] Downloading Image #18 from http://www.mtfca.com/discus/messages/80257/97032.jpg\n",
            "[%] File Downloaded !\n",
            "\n",
            "[%] Downloading Image #19 from http://www.littlebcakes.com/wp-content/uploads/2014/01/Cat-Cake-Images.jpg\n",
            "[%] File Downloaded !\n",
            "\n",
            "[%] Downloading Image #20 from http://www.catfinders.org/wp-content/uploads/2012/06/Epping-Penelope-dilute-tortie.jpg\n",
            "[%] File Downloaded !\n",
            "\n",
            "[%] Downloading Image #21 from http://www.orkugifs.com/en/images/Cat-playing-guitar_127.gif\n",
            "[%] File Downloaded !\n",
            "\n",
            "[%] Downloading Image #22 from https://www.bing.com/th/id/OGC.4cc1e8df1b0c1d410d43670c404addaf?pid=1.7&amp;rurl=http%3a%2f%2fwww.orkugifs.com%2fen%2fimages%2fCat-playing-guitar_127.gif&amp;ehk=nU3YVmVqLHfbzsqu3o7KZ%2fAtINDDhuWNZya0oS1nOAc%3d\n",
            "[!] Issue getting: https://www.bing.com/th/id/OGC.4cc1e8df1b0c1d410d43670c404addaf?pid=1.7&amp;rurl=http%3a%2f%2fwww.orkugifs.com%2fen%2fimages%2fCat-playing-guitar_127.gif&amp;ehk=nU3YVmVqLHfbzsqu3o7KZ%2fAtINDDhuWNZya0oS1nOAc%3d\n",
            "[!] Error:: HTTP Error 404: Not Found\n",
            "[%] Downloading Image #22 from http://www.earlylearninghq.org.uk/wp-content/uploads/2013/07/blackcat.jpg3_.jpg\n",
            "[%] File Downloaded !\n",
            "\n",
            "\n",
            "\n",
            "[!!]Indexing page: 3\n",
            "\n",
            "[%] Indexed 11 Images on Page 3.\n",
            "\n",
            "===============================================\n",
            "\n",
            "[%] Downloading Image #23 from http://4.bp.blogspot.com/-RXgfBtzRTEE/T9xVYBeyfKI/AAAAAAAAAGU/MTxgNoRh87c/s1600/Siamese_Cat.jpg\n",
            "[%] File Downloaded !\n",
            "\n",
            "[%] Downloading Image #24 from http://www.petpaw.com.au/wp-content/uploads/2013/01/Selkirk-Rex-cat-breed.jpg\n",
            "[%] File Downloaded !\n",
            "\n",
            "[%] Downloading Image #25 from http://media.philly.com/images/venusthecat.bmp\n",
            "[%] File Downloaded !\n",
            "\n",
            "[%] Downloading Image #26 from http://editorial.designtaxi.com/news-catadsjewel0312/1.jpg\n",
            "[%] File Downloaded !\n",
            "\n",
            "[%] Downloading Image #27 from http://www.robinwood.com/Catalog/Prints/PrintGraphics/cat_dancing_big.jpg\n",
            "[%] File Downloaded !\n",
            "\n",
            "[%] Downloading Image #28 from http://ana-white.com/sites/default/files/018_3.JPG\n",
            "[%] File Downloaded !\n",
            "\n",
            "[%] Downloading Image #29 from http://pics.wikifeet.com/Cat-Power-Feet-233035.jpg\n",
            "[%] File Downloaded !\n",
            "\n",
            "[%] Downloading Image #30 from http://i.ytimg.com/vi/7JU8-LHMmpo/hqdefault.jpg\n",
            "[%] File Downloaded !\n",
            "\n",
            "\n",
            "\n",
            "[%] Done. Downloaded 30 images.\n",
            "\n",
            "===============================================\n",
            "\n"
          ],
          "name": "stdout"
        }
      ]
    },
    {
      "cell_type": "code",
      "metadata": {
        "id": "G-F6o6-h2Gu3"
      },
      "source": [
        "#preprocessing\n",
        "import os\n",
        "import matplotlib.pyplot as plt\n",
        "import numpy as np\n",
        "from skimage.io import imread\n",
        "from skimage.transform import resize\n",
        "\n",
        "target=[]\n",
        "images=[]\n",
        "flat_data=[]\n",
        "\n",
        "DATADIR='/content/images'\n",
        "CATEGORIES=['sunflower','rugby ball leather','cat']\n",
        "\n",
        "for category in CATEGORIES:\n",
        "  class_num=CATEGORIES.index(category)\n",
        "  path=os.path.join(DATADIR,category)\n",
        "  for img in os.listdir(path):\n",
        "    img_array=imread(os.path.join(path,img))\n",
        "    img_resized=resize(img_array,(150,150,3))\n",
        "    flat_data.append(img_resized.flatten())\n",
        "    images.append(img_resized)\n",
        "    target.append(class_num)\n",
        "\n",
        "flat_data=np.array(flat_data)\n",
        "target=np.array(target)\n",
        "images=np.array(images)"
      ],
      "execution_count": 7,
      "outputs": []
    },
    {
      "cell_type": "code",
      "metadata": {
        "colab": {
          "base_uri": "https://localhost:8080/",
          "height": 283
        },
        "id": "NefKXlL590ie",
        "outputId": "4954d095-d3d5-4ec1-96d9-1445bca6cca8"
      },
      "source": [
        "unique,count=np.unique(target,return_counts=True)\n",
        "plt.bar(CATEGORIES,count)"
      ],
      "execution_count": 8,
      "outputs": [
        {
          "output_type": "execute_result",
          "data": {
            "text/plain": [
              "<BarContainer object of 3 artists>"
            ]
          },
          "metadata": {
            "tags": []
          },
          "execution_count": 8
        },
        {
          "output_type": "display_data",
          "data": {
            "image/png": "[encoded data removed]",
            "text/plain": [
              "<Figure size 432x288 with 1 Axes>"
            ]
          },
          "metadata": {
            "tags": [],
            "needs_background": "light"
          }
        }
      ]
    },
    {
      "cell_type": "code",
      "metadata": {
        "id": "1XAi9Jcn_Hes"
      },
      "source": [
        "#splitting into training and testing\n",
        "from sklearn.model_selection import train_test_split\n",
        "x_train,x_test,y_train,y_test=train_test_split(flat_data,target,test_size=0.3,random_state=109)"
      ],
      "execution_count": 10,
      "outputs": []
    },
    {
      "cell_type": "code",
      "metadata": {
        "colab": {
          "base_uri": "https://localhost:8080/"
        },
        "id": "try6nD_5BEu_",
        "outputId": "6468ed18-7b67-4c63-841c-694e70b97be6"
      },
      "source": [
        "from sklearn.model_selection import GridSearchCV\n",
        "from sklearn import svm\n",
        "param_grid=[\n",
        "            {'C':[1,10,100,1000],'kernel':['linear']},\n",
        "            {'C':[1,10,100,1000],'gamma':[0.001,0.0001],'kernel':['rbf']},\n",
        "]\n",
        "svc=svm.SVC(probability=True)\n",
        "clf=GridSearchCV(svc,param_grid)\n",
        "clf.fit(x_train,y_train)"
      ],
      "execution_count": 11,
      "outputs": [
        {
          "output_type": "execute_result",
          "data": {
            "text/plain": [
              "GridSearchCV(cv=None, error_score=nan,\n",
              "             estimator=SVC(C=1.0, break_ties=False, cache_size=200,\n",
              "                           class_weight=None, coef0=0.0,\n",
              "                           decision_function_shape='ovr', degree=3,\n",
              "                           gamma='scale', kernel='rbf', max_iter=-1,\n",
              "                           probability=True, random_state=None, shrinking=True,\n",
              "                           tol=0.001, verbose=False),\n",
              "             iid='deprecated', n_jobs=None,\n",
              "             param_grid=[{'C': [1, 10, 100, 1000], 'kernel': ['linear']},\n",
              "                         {'C': [1, 10, 100, 1000], 'gamma': [0.001, 0.0001],\n",
              "                          'kernel': ['rbf']}],\n",
              "             pre_dispatch='2*n_jobs', refit=True, return_train_score=False,\n",
              "             scoring=None, verbose=0)"
            ]
          },
          "metadata": {
            "tags": []
          },
          "execution_count": 11
        }
      ]
    },
    {
      "cell_type": "code",
      "metadata": {
        "colab": {
          "base_uri": "https://localhost:8080/"
        },
        "id": "_uzPAIB-Guk8",
        "outputId": "ac0c3e20-31f4-4e27-ced0-2cfe7bac5620"
      },
      "source": [
        "y_pred=clf.predict(x_test)\n",
        "y_pred"
      ],
      "execution_count": 12,
      "outputs": [
        {
          "output_type": "execute_result",
          "data": {
            "text/plain": [
              "array([1, 2, 2, 2, 2, 1, 2, 2, 1, 2, 1, 2, 2, 2, 2, 1, 1, 1, 2, 1, 2, 2,\n",
              "       2, 0, 0, 0, 1])"
            ]
          },
          "metadata": {
            "tags": []
          },
          "execution_count": 12
        }
      ]
    },
    {
      "cell_type": "code",
      "metadata": {
        "colab": {
          "base_uri": "https://localhost:8080/"
        },
        "id": "nbIe4wLFHCwW",
        "outputId": "6c5d60aa-7685-4c94-b871-e31b058c8900"
      },
      "source": [
        "y_test"
      ],
      "execution_count": 13,
      "outputs": [
        {
          "output_type": "execute_result",
          "data": {
            "text/plain": [
              "array([1, 0, 1, 2, 2, 1, 0, 1, 1, 0, 1, 0, 1, 2, 2, 1, 2, 1, 0, 1, 2, 2,\n",
              "       2, 0, 0, 0, 1])"
            ]
          },
          "metadata": {
            "tags": []
          },
          "execution_count": 13
        }
      ]
    },
    {
      "cell_type": "code",
      "metadata": {
        "id": "35qxAJNpHGZm"
      },
      "source": [
        "from sklearn.metrics import accuracy_score,confusion_matrix"
      ],
      "execution_count": 14,
      "outputs": []
    },
    {
      "cell_type": "code",
      "metadata": {
        "colab": {
          "base_uri": "https://localhost:8080/"
        },
        "id": "KoC_MoItHWkf",
        "outputId": "787b1987-79be-4f6d-f11e-d0c1cff1837e"
      },
      "source": [
        "accuracy_score(y_pred,y_test)"
      ],
      "execution_count": 15,
      "outputs": [
        {
          "output_type": "execute_result",
          "data": {
            "text/plain": [
              "0.6666666666666666"
            ]
          },
          "metadata": {
            "tags": []
          },
          "execution_count": 15
        }
      ]
    },
    {
      "cell_type": "code",
      "metadata": {
        "colab": {
          "base_uri": "https://localhost:8080/"
        },
        "id": "ETUxyEdeHlP4",
        "outputId": "a8a5078c-47ce-4617-c05c-c04321c207fe"
      },
      "source": [
        "confusion_matrix(y_pred,y_test)"
      ],
      "execution_count": 16,
      "outputs": [
        {
          "output_type": "execute_result",
          "data": {
            "text/plain": [
              "array([[3, 0, 0],\n",
              "       [0, 8, 1],\n",
              "       [5, 3, 7]])"
            ]
          },
          "metadata": {
            "tags": []
          },
          "execution_count": 16
        }
      ]
    },
    {
      "cell_type": "code",
      "metadata": {
        "id": "hLvTLFz1ISZM"
      },
      "source": [
        "import pickle\n",
        "pickle.dump(clf,open('img_model.p','wb'))\n",
        "model=pickle.load(open('img_model.p','rb'))"
      ],
      "execution_count": 17,
      "outputs": []
    },
    {
      "cell_type": "code",
      "metadata": {
        "colab": {
          "base_uri": "https://localhost:8080/",
          "height": 321
        },
        "id": "bo7WqzboJhE4",
        "outputId": "8f0cb27e-276d-40e8-af8e-00e8839a3dc1"
      },
      "source": [
        "#testing brand new image\n",
        "flat_data=[]\n",
        "url=input('Enter URL')\n",
        "img=imread(url)\n",
        "img_resized=resize(img,(150,150,3))\n",
        "flat_data.append(img_resized.flatten())\n",
        "flat_data=np.array(flat_data)\n",
        "print(img.shape)\n",
        "plt.imshow(img_resized)\n",
        "y_out=model.predict(flat_data)\n",
        "y_out=CATEGORIES[y_out[0]]\n",
        "print(f'predicted output: {y_out}')"
      ],
      "execution_count": 18,
      "outputs": [
        {
          "output_type": "stream",
          "text": [
            "Enter URLhttps://image.cnbcfm.com/api/v1/image/105828578-1554223245858gettyimages-149052633.jpeg?v=1554223281.jpg\n",
            "(2000, 3002, 3)\n",
            "predicted output: cat\n"
          ],
          "name": "stdout"
        },
        {
          "output_type": "display_data",
          "data": {
            "image/png": "[encoded data removed]",
            "text/plain": [
              "<Figure size 432x288 with 1 Axes>"
            ]
          },
          "metadata": {
            "tags": [],
            "needs_background": "light"
          }
        }
      ]
    }
  ]
}